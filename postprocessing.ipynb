{
 "metadata": {
  "name": "",
  "signature": "sha256:65a7a73cd2fc76f61a6a07d5b3b51f8176ea7ebdfbb742df8284fce5d3923337"
 },
 "nbformat": 3,
 "nbformat_minor": 0,
 "worksheets": [
  {
   "cells": [
    {
     "cell_type": "code",
     "collapsed": false,
     "input": [
      "import pandas as pd\n",
      "import numpy as np\n",
      "import os\n",
      "import scipy.io"
     ],
     "language": "python",
     "metadata": {},
     "outputs": []
    },
    {
     "cell_type": "code",
     "collapsed": false,
     "input": [
      "data_type = 'test'"
     ],
     "language": "python",
     "metadata": {},
     "outputs": []
    },
    {
     "cell_type": "code",
     "collapsed": false,
     "input": [
      "targets = ['Dog_1', 'Dog_2', 'Dog_3', 'Dog_4', 'Dog_5', 'Patient_1', 'Patient_2']"
     ],
     "language": "python",
     "metadata": {},
     "outputs": []
    },
    {
     "cell_type": "code",
     "collapsed": false,
     "input": [
      "def mydist(j1, j2):\n",
      "    return -2.*np.dot(j1,j2)/(np.dot(j1,j1) + np.dot(j2,j2))"
     ],
     "language": "python",
     "metadata": {},
     "outputs": []
    },
    {
     "cell_type": "code",
     "collapsed": false,
     "input": [
      "FNAME_IN = 'submissions/SUBMISSON.csv'"
     ],
     "language": "python",
     "metadata": {},
     "outputs": []
    },
    {
     "cell_type": "code",
     "collapsed": false,
     "input": [
      "FNAME_OUT = 'submissions/IMPROVED_SUBMISSON.csv'"
     ],
     "language": "python",
     "metadata": {},
     "outputs": []
    },
    {
     "cell_type": "code",
     "collapsed": false,
     "input": [
      "scores = pd.read_csv(FNAME_IN, index_col='clip', squeeze=True)\n",
      "out_scores = scores.copy()"
     ],
     "language": "python",
     "metadata": {},
     "outputs": []
    },
    {
     "cell_type": "code",
     "collapsed": false,
     "input": [
      "W=0.25\n",
      "T=0.1\n",
      "D=-0.5\n",
      "\n",
      "for target in targets:\n",
      "    edges = []\n",
      "    for target in targets:\n",
      "        for segment in range(1,1000000):\n",
      "            fname = 'seizure-data/%s/%s_%s_segment_%04d.mat'%(target,target,data_type,segment)\n",
      "            try:\n",
      "                data = scipy.io.loadmat(fname)\n",
      "                k = '%s_segment_%d'%(data_type,segment)\n",
      "                d = data[k]['data'][0,0]\n",
      "                edges.append((d[:,:1].astype(float),d[:,-1:].astype(float)))\n",
      "            except:\n",
      "                break\n",
      "    \n",
      "    N = len(edges)\n",
      "    d = np.zeros((N,N))\n",
      "    for i in range(N):\n",
      "        ei = edges[i]\n",
      "        for j in range(i+1,N):\n",
      "            ej = edges[j]\n",
      "            d[i,j] = mydist(ei[1][:,-1],ej[0][:,0])\n",
      "            d[j,i] = mydist(ej[1][:,-1],ei[0][:,0])\n",
      "\n",
      "    for i in range(N):\n",
      "        d[i,i] = 1\n",
      "    \n",
      "    print\n",
      "    N = d.shape[0]\n",
      "    print target, N\n",
      "    dord = np.unravel_index(d.ravel().argsort(),d.shape)\n",
      "    Nsequences = N/6\n",
      "    \n",
      "    # find good pairs of segments that are likely to be paired in time\n",
      "    next_segment = [-1]*N\n",
      "    previous_segment = [-1]*N\n",
      "    for i,(s1,s2) in enumerate(np.array(dord).T):\n",
      "        dist = d[s1,s2]\n",
      "        if dist > D:\n",
      "            break\n",
      "        if next_segment[s1] != -1:\n",
      "            #print i,'right conflict',dist\n",
      "            continue\n",
      "        if previous_segment[s2] != -1:\n",
      "            #print i,'left conflict',dist\n",
      "            continue\n",
      "        c = 1\n",
      "        j = s1\n",
      "        while previous_segment[j] != -1:\n",
      "            j = previous_segment[j]\n",
      "            c += 1\n",
      "        j = s2\n",
      "        c += 1\n",
      "        while next_segment[j] != -1:\n",
      "            j = next_segment[j]\n",
      "            c += 1\n",
      "        if c > 6:\n",
      "            continue\n",
      "        next_segment[s1] = s2\n",
      "        previous_segment[s2] = s1\n",
      "    # check code\n",
      "    for i in range(N):\n",
      "        if next_segment[i] != -1:\n",
      "            assert previous_segment[next_segment[i]] == i\n",
      "\n",
      "    # find good sequences\n",
      "    sequences = []\n",
      "    for i in range(N):\n",
      "        if previous_segment[i] == -1 and next_segment[i] != -1:\n",
      "            j = i\n",
      "            sequence = [j]\n",
      "            while next_segment[j] != -1:\n",
      "                j = next_segment[j]\n",
      "                sequence.append(j)\n",
      "            sequences.append(sequence)\n",
      "    len_sequences = [len(sequence) for sequence in sequences]\n",
      "    print '#sequences',len(sequences), '%segments that was sequenced',sum(len_sequences)/float(N), 'longest sequence', max(len_sequences)\n",
      "    print sequences\n",
      "\n",
      "    #compute probability for sequences\n",
      "    sequences_prb = []\n",
      "    for sequence in sequences:\n",
      "        probs = np.array([scores['%s_test_segment_%04d.mat'%(target,s+1)] for s in sequence])\n",
      "        wgts = np.exp(probs/T)\n",
      "        wgts /= np.sum(wgts)\n",
      "        p = np.dot(wgts, probs)\n",
      "        sequences_prb.append(p)\n",
      "    # fix probability for segments in sequences\n",
      "    for p,sequence in zip(sequences_prb,sequences):\n",
      "        # all segments in the same sequence will be assigned the same probability\n",
      "        n = 1./len(sequence)\n",
      "        for i, s in enumerate(sequence):\n",
      "            out_scores['%s_test_segment_%04d.mat'%(target,s+1)] = W*scores['%s_test_segment_%04d.mat'%(target,s+1)] +(1.-W)*p"
     ],
     "language": "python",
     "metadata": {},
     "outputs": []
    },
    {
     "cell_type": "code",
     "collapsed": false,
     "input": [
      "out_scores = out_scores/out_scores.max()"
     ],
     "language": "python",
     "metadata": {},
     "outputs": []
    },
    {
     "cell_type": "code",
     "collapsed": false,
     "input": [
      "out_scores.to_csv(FNAME_OUT, header=True)"
     ],
     "language": "python",
     "metadata": {},
     "outputs": []
    }
   ],
   "metadata": {}
  }
 ]
}